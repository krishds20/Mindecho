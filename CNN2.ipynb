{
  "nbformat": 4,
  "nbformat_minor": 0,
  "metadata": {
    "colab": {
      "provenance": [],
      "authorship_tag": "ABX9TyNgFGgSKkrE55t0fZdmuwJY",
      "include_colab_link": true
    },
    "kernelspec": {
      "name": "python3",
      "display_name": "Python 3"
    },
    "language_info": {
      "name": "python"
    }
  },
  "cells": [
    {
      "cell_type": "markdown",
      "metadata": {
        "id": "view-in-github",
        "colab_type": "text"
      },
      "source": [
        "<a href=\"https://colab.research.google.com/github/krishds20/Mindecho/blob/main/CNN2.ipynb\" target=\"_parent\"><img src=\"https://colab.research.google.com/assets/colab-badge.svg\" alt=\"Open In Colab\"/></a>"
      ]
    },
    {
      "cell_type": "code",
      "execution_count": null,
      "metadata": {
        "id": "4SI11kjkBDAE"
      },
      "outputs": [],
      "source": [
        "import pandas as pd\n",
        "import numpy as np\n",
        "import random"
      ]
    },
    {
      "cell_type": "code",
      "source": [
        "from sklearn.model_selection import train_test_split\n",
        "from sklearn.compose import ColumnTransformer\n",
        "from sklearn.preprocessing import OneHotEncoder,StandardScaler,LabelEncoder\n",
        "from sklearn.metrics import accuracy_score,precision_score,f1_score,recall_score"
      ],
      "metadata": {
        "id": "HakIlDA-BzML"
      },
      "execution_count": null,
      "outputs": []
    },
    {
      "cell_type": "code",
      "source": [
        "df=pd.read_csv('/content/sample_data/drug adverse reaction.csv')"
      ],
      "metadata": {
        "id": "sEBiVRwlBzH6"
      },
      "execution_count": null,
      "outputs": []
    },
    {
      "cell_type": "code",
      "source": [
        "df.info()"
      ],
      "metadata": {
        "colab": {
          "base_uri": "https://localhost:8080/"
        },
        "id": "NFhf6RmaBzGs",
        "outputId": "ab03bacb-74c2-4662-9547-54906d9fa016"
      },
      "execution_count": null,
      "outputs": [
        {
          "output_type": "stream",
          "name": "stdout",
          "text": [
            "<class 'pandas.core.frame.DataFrame'>\n",
            "RangeIndex: 7386 entries, 0 to 7385\n",
            "Data columns (total 11 columns):\n",
            " #   Column                Non-Null Count  Dtype  \n",
            "---  ------                --------------  -----  \n",
            " 0   age                   7386 non-null   int64  \n",
            " 1   sex                   7386 non-null   object \n",
            " 2   height_cm             7386 non-null   float64\n",
            " 3   weight_kg             7386 non-null   float64\n",
            " 4   BMI                   7386 non-null   float64\n",
            " 5   medical_history       5927 non-null   object \n",
            " 6   drug_name             7386 non-null   object \n",
            " 7   condition             7386 non-null   object \n",
            " 8   dosage_mg             7386 non-null   int64  \n",
            " 9   side_effect           6332 non-null   object \n",
            " 10  side_effect_severity  6332 non-null   object \n",
            "dtypes: float64(3), int64(2), object(6)\n",
            "memory usage: 634.9+ KB\n"
          ]
        }
      ]
    },
    {
      "cell_type": "code",
      "source": [
        "df['side_effect']=df['side_effect'].fillna('No Side Efffect')"
      ],
      "metadata": {
        "id": "-NQhCoE_BzFX"
      },
      "execution_count": null,
      "outputs": []
    },
    {
      "cell_type": "code",
      "source": [
        "features=['age','sex','height_cm','weight_kg','BMI','medical_history','drug_name','dosage_mg']\n",
        "x=df[features]\n",
        "y=df['side_effect']"
      ],
      "metadata": {
        "id": "IEzgR52XBzBm"
      },
      "execution_count": null,
      "outputs": []
    },
    {
      "cell_type": "code",
      "source": [
        "le=LabelEncoder()\n",
        "y_encoded=le.fit_transform(y)"
      ],
      "metadata": {
        "id": "ITWSJdNXBy_6"
      },
      "execution_count": null,
      "outputs": []
    },
    {
      "cell_type": "code",
      "source": [
        "num_features=['age','height_cm','weight_kg','BMI','dosage_mg']\n",
        "cat_features=['sex','medical_history','drug_name']"
      ],
      "metadata": {
        "id": "3h1WDSn5By-C"
      },
      "execution_count": null,
      "outputs": []
    },
    {
      "cell_type": "code",
      "source": [
        "preprocessor=ColumnTransformer(\n",
        "    transformers=[\n",
        "        ('num',StandardScaler(),num_features),\n",
        "        ('cat',OneHotEncoder(handle_unknown='ignore'),cat_features)\n",
        "    ]\n",
        ")"
      ],
      "metadata": {
        "id": "2y33d-JeBy7B"
      },
      "execution_count": null,
      "outputs": []
    },
    {
      "cell_type": "code",
      "source": [
        "X_transformed=preprocessor.fit_transform(x)\n"
      ],
      "metadata": {
        "id": "om3ZF_gYCBPA"
      },
      "execution_count": null,
      "outputs": []
    },
    {
      "cell_type": "code",
      "source": [
        "x_train,x_test,y_train,y_test=train_test_split(X_transformed,y_encoded,test_size=0.2,random_state=42)"
      ],
      "metadata": {
        "id": "MnE-esnOCBLp"
      },
      "execution_count": null,
      "outputs": []
    },
    {
      "cell_type": "code",
      "source": [
        "if hasattr(x_train,'toarray'):\n",
        "  x_train_nn=x_train.toarray()\n",
        "  x_test_nn=x_test.toarray()\n",
        "else:\n",
        "  x_train_nn=x_train\n",
        "  x_test_nn=x_test"
      ],
      "metadata": {
        "id": "JksQdYj9CBJX"
      },
      "execution_count": null,
      "outputs": []
    },
    {
      "cell_type": "code",
      "source": [
        "x_train_nn=np.array(x_train_nn)\n",
        "x_test_nn=np.array(x_test_nn)\n",
        "x_train_nn=x_train_nn.reshape(x_train_nn.shape[0],x_train_nn.shape[1],1)\n",
        "x_test_nn=x_test_nn.reshape(x_test_nn.shape[0],x_test_nn.shape[1],1)\n",
        "input_shape=(x_train_nn.shape[1],1)"
      ],
      "metadata": {
        "id": "lrfVzLh6CBGx"
      },
      "execution_count": null,
      "outputs": []
    },
    {
      "cell_type": "code",
      "source": [
        "import tensorflow as tf\n",
        "num_classes=len(le.classes_)\n",
        "y_train_cat=tf.keras.utils.to_categorical(y_train,num_classes)\n",
        "y_test_cat=tf.keras.utils.to_categorical(y_test,num_classes)"
      ],
      "metadata": {
        "id": "7cK1B3QACONU"
      },
      "execution_count": null,
      "outputs": []
    },
    {
      "cell_type": "code",
      "source": [
        "from tensorflow.keras.models import Sequential\n",
        "from tensorflow.keras.layers import Conv1D,Flatten,Dense\n",
        "from tensorflow.keras.callbacks import EarlyStopping"
      ],
      "metadata": {
        "id": "KNlx0P1VCOJ3"
      },
      "execution_count": null,
      "outputs": []
    },
    {
      "cell_type": "code",
      "source": [
        "cnn_model=Sequential([\n",
        "    Conv1D(filters=32,kernel_size=3,activation='relu',input_shape=(input_shape)),\n",
        "    Flatten(),\n",
        "    Dense(64,activation='relu'),\n",
        "    Dense(num_classes,activation='softmax')\n",
        "])"
      ],
      "metadata": {
        "colab": {
          "base_uri": "https://localhost:8080/"
        },
        "id": "MZvnDcJ0COHW",
        "outputId": "9f580b6f-03ef-48c9-f9a5-f02611d998a1"
      },
      "execution_count": null,
      "outputs": [
        {
          "output_type": "stream",
          "name": "stderr",
          "text": [
            "/usr/local/lib/python3.11/dist-packages/keras/src/layers/convolutional/base_conv.py:107: UserWarning: Do not pass an `input_shape`/`input_dim` argument to a layer. When using Sequential models, prefer using an `Input(shape)` object as the first layer in the model instead.\n",
            "  super().__init__(activity_regularizer=activity_regularizer, **kwargs)\n"
          ]
        }
      ]
    },
    {
      "cell_type": "code",
      "source": [
        "cnn_model.compile(optimizer='adam',loss='categorical_crossentropy',metrics=['accuracy'])\n",
        "print(\"\\nTraining CNN Model...\")\n",
        "cnn_model.fit(x_train_nn,y_train_cat,epochs=15,batch_size=32,validation_split=0.2,verbose=1,callbacks=[EarlyStopping(monitor='val_loss',patience=3,restore_best_weights=True)])"
      ],
      "metadata": {
        "colab": {
          "base_uri": "https://localhost:8080/"
        },
        "id": "6z2x99x_COEk",
        "outputId": "494c6302-bc97-48f5-9be4-35634d0651d1"
      },
      "execution_count": null,
      "outputs": [
        {
          "output_type": "stream",
          "name": "stdout",
          "text": [
            "\n",
            "Training CNN Model...\n",
            "Epoch 1/15\n",
            "\u001b[1m148/148\u001b[0m \u001b[32m━━━━━━━━━━━━━━━━━━━━\u001b[0m\u001b[37m\u001b[0m \u001b[1m3s\u001b[0m 8ms/step - accuracy: 0.1512 - loss: 3.2995 - val_accuracy: 0.2716 - val_loss: 2.0651\n",
            "Epoch 2/15\n",
            "\u001b[1m148/148\u001b[0m \u001b[32m━━━━━━━━━━━━━━━━━━━━\u001b[0m\u001b[37m\u001b[0m \u001b[1m1s\u001b[0m 4ms/step - accuracy: 0.2847 - loss: 1.7921 - val_accuracy: 0.2876 - val_loss: 1.5244\n",
            "Epoch 3/15\n",
            "\u001b[1m148/148\u001b[0m \u001b[32m━━━━━━━━━━━━━━━━━━━━\u001b[0m\u001b[37m\u001b[0m \u001b[1m1s\u001b[0m 7ms/step - accuracy: 0.3238 - loss: 1.4519 - val_accuracy: 0.2783 - val_loss: 1.4800\n",
            "Epoch 4/15\n",
            "\u001b[1m148/148\u001b[0m \u001b[32m━━━━━━━━━━━━━━━━━━━━\u001b[0m\u001b[37m\u001b[0m \u001b[1m2s\u001b[0m 10ms/step - accuracy: 0.3257 - loss: 1.4024 - val_accuracy: 0.2775 - val_loss: 1.4833\n",
            "Epoch 5/15\n",
            "\u001b[1m148/148\u001b[0m \u001b[32m━━━━━━━━━━━━━━━━━━━━\u001b[0m\u001b[37m\u001b[0m \u001b[1m2s\u001b[0m 6ms/step - accuracy: 0.3646 - loss: 1.3572 - val_accuracy: 0.2843 - val_loss: 1.5114\n",
            "Epoch 6/15\n",
            "\u001b[1m148/148\u001b[0m \u001b[32m━━━━━━━━━━━━━━━━━━━━\u001b[0m\u001b[37m\u001b[0m \u001b[1m1s\u001b[0m 3ms/step - accuracy: 0.3599 - loss: 1.3610 - val_accuracy: 0.2640 - val_loss: 1.5026\n"
          ]
        },
        {
          "output_type": "execute_result",
          "data": {
            "text/plain": [
              "<keras.src.callbacks.history.History at 0x7f422f68d8d0>"
            ]
          },
          "metadata": {},
          "execution_count": 17
        }
      ]
    },
    {
      "cell_type": "code",
      "source": [
        "cnn_loss, cnn_accuracy = cnn_model.evaluate(x_test_nn, y_test_cat, verbose=0)\n",
        "print(f\"\\nCNN Model Accuracy: {cnn_accuracy:.4f}\")"
      ],
      "metadata": {
        "colab": {
          "base_uri": "https://localhost:8080/"
        },
        "id": "3lR9ABWCCgPD",
        "outputId": "ed2ce149-5ace-4383-f09d-301a803af219"
      },
      "execution_count": null,
      "outputs": [
        {
          "output_type": "stream",
          "name": "stdout",
          "text": [
            "\n",
            "CNN Model Accuracy: 0.2693\n"
          ]
        }
      ]
    },
    {
      "cell_type": "code",
      "source": [
        "y_pred_cnn = cnn_model.predict(x_test_nn)\n",
        "y_pred_cnn_labels = np.argmax(y_pred_cnn, axis=1)\n",
        "print(\"\\nCNN Model Metrics:\")\n",
        "print(\"Accuracy:\", accuracy_score(y_test, y_pred_cnn_labels))\n",
        "print(\"Precision:\", precision_score(y_test, y_pred_cnn_labels, average='weighted'))\n",
        "print(\"Recall:\", recall_score(y_test, y_pred_cnn_labels, average='weighted'))\n",
        "print(\"F1 Score:\", f1_score(y_test, y_pred_cnn_labels, average='weighted'))"
      ],
      "metadata": {
        "colab": {
          "base_uri": "https://localhost:8080/"
        },
        "id": "VHVa2EQTCV8z",
        "outputId": "2bc4bdab-76a1-4107-8fa7-d33d21f37afc"
      },
      "execution_count": null,
      "outputs": [
        {
          "output_type": "stream",
          "name": "stdout",
          "text": [
            "\u001b[1m47/47\u001b[0m \u001b[32m━━━━━━━━━━━━━━━━━━━━\u001b[0m\u001b[37m\u001b[0m \u001b[1m0s\u001b[0m 5ms/step\n",
            "\n",
            "CNN Model Metrics:\n",
            "Accuracy: 0.2692828146143437\n",
            "Precision: 0.2450952107647974\n",
            "Recall: 0.2692828146143437\n",
            "F1 Score: 0.21485000825840445\n"
          ]
        },
        {
          "output_type": "stream",
          "name": "stderr",
          "text": [
            "/usr/local/lib/python3.11/dist-packages/sklearn/metrics/_classification.py:1565: UndefinedMetricWarning: Precision is ill-defined and being set to 0.0 in labels with no predicted samples. Use `zero_division` parameter to control this behavior.\n",
            "  _warn_prf(average, modifier, f\"{metric.capitalize()} is\", len(result))\n"
          ]
        }
      ]
    },
    {
      "cell_type": "code",
      "source": [
        "#making prediction\n",
        "new_data = {\n",
        "    'age': [30],\n",
        "    'sex': ['Female'],\n",
        "    'height_cm': [160],\n",
        "    'weight_kg': [55],\n",
        "    'BMI': [21.5],\n",
        "    'medical_history': ['Diabetes'],\n",
        "    'drug_name': ['Zolpidem'],\n",
        "    'condition': ['Insomnia'],\n",
        "    'dosage_mg': [100],\n",
        "}"
      ],
      "metadata": {
        "id": "8C-K5JKnCV5Q"
      },
      "execution_count": null,
      "outputs": []
    },
    {
      "cell_type": "code",
      "source": [
        "new_df = pd.DataFrame(new_data)\n",
        "new_data_transformed = preprocessor.transform(new_df)"
      ],
      "metadata": {
        "id": "KS88yuwfEJAx"
      },
      "execution_count": null,
      "outputs": []
    },
    {
      "cell_type": "code",
      "source": [
        "if hasattr(new_data_transformed, \"toarray\"):\n",
        "    new_data_transformed = new_data_transformed.toarray()\n",
        "new_data_nn = np.array(new_data_transformed)\n",
        "# Reshape into (samples, timesteps, channels)\n",
        "new_data_nn = new_data_nn.reshape(new_data_nn.shape[0], new_data_nn.shape[1], 1)"
      ],
      "metadata": {
        "id": "-b-hTCtQEI9Z"
      },
      "execution_count": null,
      "outputs": []
    },
    {
      "cell_type": "code",
      "source": [
        "cnn_pred_prob = cnn_model.predict(new_data_nn)\n",
        "cnn_pred_index = np.argmax(cnn_pred_prob, axis=1)\n",
        "cnn_pred_label = le.inverse_transform(cnn_pred_index)\n",
        "print(\"CNN Prediction:\", cnn_pred_label[0])"
      ],
      "metadata": {
        "colab": {
          "base_uri": "https://localhost:8080/"
        },
        "id": "XyQ5M7EAEI7C",
        "outputId": "8954db7d-c78c-4436-e897-a8e8cb2e15b2"
      },
      "execution_count": null,
      "outputs": [
        {
          "output_type": "stream",
          "name": "stdout",
          "text": [
            "\u001b[1m1/1\u001b[0m \u001b[32m━━━━━━━━━━━━━━━━━━━━\u001b[0m\u001b[37m\u001b[0m \u001b[1m0s\u001b[0m 163ms/step\n",
            "CNN Prediction: dizziness\n"
          ]
        }
      ]
    }
  ]
}